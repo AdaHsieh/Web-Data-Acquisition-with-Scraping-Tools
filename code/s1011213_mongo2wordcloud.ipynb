{
 "cells": [
  {
   "cell_type": "code",
   "execution_count": 3,
   "metadata": {
    "collapsed": false
   },
   "outputs": [],
   "source": [
    "from pymongo import MongoClient\n",
    "from wordcloud import WordCloud, STOPWORDS\n",
    "import matplotlib.pyplot as plt\n",
    "\n",
    "client = MongoClient()\n",
    "db = client.tweetsdb_3\n",
    "mod_tweet = db.neg_tweet.find()\n",
    "\n",
    "content = []\n",
    "for pt in mod_tweet:\n",
    "    # encodes a unicode string to ascii and ignores errors; output byte-object\n",
    "    # decode byte-object back to string\n",
    "    tmp = pt['text'].encode('ascii', 'ignore').decode(\"utf-8\")\n",
    "    # Make multi-line tweets into single line\n",
    "    tmp = tmp.replace('\\n', ' ')\n",
    "    # Make multi-line tweets into single tweet\n",
    "    content.append(tmp + '\\n')\n",
    "\n",
    "text = open('e:\\\\PythonFiles\\\\positive1.txt','w')\n",
    "for tweet in content:\n",
    "    text.write(tweet)\n",
    "text.close()\n",
    "    \n",
    "f = open('e:\\\\PythonFiles\\\\positive1.txt', 'r')\n",
    "text = f.read()\n",
    "f.close()\n",
    "\n",
    "wordcloud = WordCloud(\n",
    "    font_path='/Users/ada/font/intrastatehighway.ttf',\n",
    "    stopwords=STOPWORDS,\n",
    "    background_color='#222222',\n",
    "    width=1000,\n",
    "    height=800).generate(text)\n",
    "\n",
    "# Open a plot of the generated image.\n",
    "plt.figure(figsize=(12,12))  # figsize = (w, h) w,h tuple in inches\n",
    "plt.imshow(wordcloud)\n",
    "plt.axis(\"off\")\n",
    "plt.show()"
   ]
  },
  {
   "cell_type": "code",
   "execution_count": null,
   "metadata": {
    "collapsed": true
   },
   "outputs": [],
   "source": []
  },
  {
   "cell_type": "code",
   "execution_count": null,
   "metadata": {
    "collapsed": true
   },
   "outputs": [],
   "source": []
  }
 ],
 "metadata": {
  "kernelspec": {
   "display_name": "Python 3",
   "language": "python",
   "name": "python3"
  },
  "language_info": {
   "codemirror_mode": {
    "name": "ipython",
    "version": 3
   },
   "file_extension": ".py",
   "mimetype": "text/x-python",
   "name": "python",
   "nbconvert_exporter": "python",
   "pygments_lexer": "ipython3",
   "version": "3.5.1"
  }
 },
 "nbformat": 4,
 "nbformat_minor": 0
}
