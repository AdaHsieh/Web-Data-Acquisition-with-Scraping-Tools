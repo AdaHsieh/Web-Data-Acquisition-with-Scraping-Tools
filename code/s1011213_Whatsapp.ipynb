{
 "cells": [
  {
   "cell_type": "code",
   "execution_count": 180,
   "metadata": {
    "collapsed": false
   },
   "outputs": [
    {
     "name": "stdout",
     "output_type": "stream",
     "text": [
      "\n"
     ]
    }
   ],
   "source": [
    "import  requests\n",
    "import  json\n",
    "import pymongo\n",
    "import time\n",
    "from pymongo import MongoClient\n",
    "import  facebook\n",
    "\n",
    "client = MongoClient()\n",
    "# Here you assign the name of the database to work. In this example we use \"tweetsdb\"\n",
    "db = client.tweetsdb_3\n",
    "collection = db['rawtweet']\n",
    "if collection.count() != 0:\n",
    "    print('Drop rawtweet collection')\n",
    "    db.rawtweet.drop()  # Drop the Collection\n",
    "\n",
    "token = 'EAACEdEose0cBAPEaTGcafKaBXPP7jx2eEom0QF4pZA89QJ5pZBJ4YYtmjwrJpgKYoH004DV4cPn1ei3Q7uZATfwRr0kEM440JAIecRnJuM0oTGTZBgSWcMOe2ZApIZCInBAiuZAkoAQov7SoEZCkBHKxxwdZCpZBj9R42BvPFGy4LBjQZDZD'\n",
    "res = requests.get('https://graph.facebook.com/v2.3/280034132055819/feed?access_token=%s'%(token))\n",
    "jsondata = json.loads(res.text)\n",
    "\n",
    "\n",
    "for athletes in jsondata['data']:\n",
    "    try: db.rawtweets.insert_one({'text': athletes['message']})\n",
    "    except: print()"
   ]
  },
  {
   "cell_type": "code",
   "execution_count": null,
   "metadata": {
    "collapsed": true
   },
   "outputs": [],
   "source": []
  }
 ],
 "metadata": {
  "kernelspec": {
   "display_name": "Python 3",
   "language": "python",
   "name": "python3"
  },
  "language_info": {
   "codemirror_mode": {
    "name": "ipython",
    "version": 3
   },
   "file_extension": ".py",
   "mimetype": "text/x-python",
   "name": "python",
   "nbconvert_exporter": "python",
   "pygments_lexer": "ipython3",
   "version": "3.5.1"
  }
 },
 "nbformat": 4,
 "nbformat_minor": 0
}
